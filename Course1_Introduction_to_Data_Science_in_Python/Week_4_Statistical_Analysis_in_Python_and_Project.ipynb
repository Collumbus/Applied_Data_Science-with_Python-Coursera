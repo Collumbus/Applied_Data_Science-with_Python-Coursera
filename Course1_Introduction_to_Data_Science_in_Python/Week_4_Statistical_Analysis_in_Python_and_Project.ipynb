{
 "cells": [
  {
   "cell_type": "markdown",
   "metadata": {},
   "source": [
    "---\n",
    "\n",
    "_You are currently looking at **version 1.0** of this notebook. To download notebooks and datafiles, as well as get help on Jupyter notebooks in the Coursera platform, visit the [Jupyter Notebook FAQ](https://www.coursera.org/learn/python-data-analysis/resources/0dhYG) course resource._\n",
    "\n",
    "---"
   ]
  },
  {
   "cell_type": "markdown",
   "metadata": {},
   "source": [
    "# Distributions in Pandas"
   ]
  },
  {
   "cell_type": "code",
   "execution_count": 1,
   "metadata": {
    "collapsed": false
   },
   "outputs": [],
   "source": [
    "import pandas as pd\n",
    "import numpy as np"
   ]
  },
  {
   "cell_type": "code",
   "execution_count": 2,
   "metadata": {
    "collapsed": false
   },
   "outputs": [
    {
     "data": {
      "text/plain": [
       "0"
      ]
     },
     "execution_count": 2,
     "metadata": {},
     "output_type": "execute_result"
    }
   ],
   "source": [
    "np.random.binomial(1, 0.5)"
   ]
  },
  {
   "cell_type": "code",
   "execution_count": 3,
   "metadata": {
    "collapsed": false
   },
   "outputs": [
    {
     "data": {
      "text/plain": [
       "0"
      ]
     },
     "execution_count": 3,
     "metadata": {},
     "output_type": "execute_result"
    }
   ],
   "source": [
    "np.random.binomial(1000, 0.5)/1000"
   ]
  },
  {
   "cell_type": "markdown",
   "metadata": {},
   "source": [
    "---\n",
    "## Exercise Distributions\n",
    "Suppose we want to simulate the probability of flipping a fair coin 20 times, and getting a number greater than or equal 15. Use np.random.binomial(n, p, size) to do 10000 simulations of flipping a fair coin 20 times, the see what proportion of simulations are 15 or greater."
   ]
  },
  {
   "cell_type": "code",
   "execution_count": 4,
   "metadata": {
    "collapsed": false
   },
   "outputs": [
    {
     "data": {
      "text/plain": [
       "0.0224"
      ]
     },
     "execution_count": 4,
     "metadata": {},
     "output_type": "execute_result"
    }
   ],
   "source": [
    "x = np.random.binomial(20, .5, 10000)\n",
    "(x>=15).mean()"
   ]
  },
  {
   "cell_type": "markdown",
   "metadata": {},
   "source": [
    "---"
   ]
  },
  {
   "cell_type": "code",
   "execution_count": 5,
   "metadata": {
    "collapsed": false
   },
   "outputs": [
    {
     "data": {
      "text/plain": [
       "13"
      ]
     },
     "execution_count": 5,
     "metadata": {},
     "output_type": "execute_result"
    }
   ],
   "source": [
    "chance_of_tornado = 0.01/100\n",
    "np.random.binomial(100000, chance_of_tornado)"
   ]
  },
  {
   "cell_type": "code",
   "execution_count": 6,
   "metadata": {
    "collapsed": false
   },
   "outputs": [
    {
     "name": "stdout",
     "output_type": "stream",
     "text": [
      "96 tornadoes back to back in 2739 years\n"
     ]
    }
   ],
   "source": [
    "chance_of_tornado = 0.01\n",
    "\n",
    "tornado_events = np.random.binomial(1, chance_of_tornado, 1000000)\n",
    "    \n",
    "two_days_in_a_row = 0\n",
    "for j in range(1,len(tornado_events)-1):\n",
    "    if tornado_events[j]==1 and tornado_events[j-1]==1:\n",
    "        two_days_in_a_row+=1\n",
    "\n",
    "print('{} tornadoes back to back in {} years'.format(two_days_in_a_row, 1000000/365))"
   ]
  },
  {
   "cell_type": "code",
   "execution_count": 7,
   "metadata": {
    "collapsed": false
   },
   "outputs": [
    {
     "data": {
      "text/plain": [
       "0.5655963197609108"
      ]
     },
     "execution_count": 7,
     "metadata": {},
     "output_type": "execute_result"
    }
   ],
   "source": [
    "np.random.uniform(0, 1)"
   ]
  },
  {
   "cell_type": "code",
   "execution_count": 8,
   "metadata": {
    "collapsed": false
   },
   "outputs": [
    {
     "data": {
      "text/plain": [
       "-0.27190049820963336"
      ]
     },
     "execution_count": 8,
     "metadata": {},
     "output_type": "execute_result"
    }
   ],
   "source": [
    "np.random.normal(0.75)"
   ]
  },
  {
   "cell_type": "markdown",
   "metadata": {},
   "source": [
    "Formula for standard deviation\n",
    "$$\\sqrt{\\frac{1}{N} \\sum_{i=1}^N (x_i - \\overline{x})^2}$$"
   ]
  },
  {
   "cell_type": "code",
   "execution_count": 9,
   "metadata": {
    "collapsed": false
   },
   "outputs": [
    {
     "data": {
      "text/plain": [
       "1.0218369328030916"
      ]
     },
     "execution_count": 9,
     "metadata": {},
     "output_type": "execute_result"
    }
   ],
   "source": [
    "distribution = np.random.normal(0.75,size=1000)\n",
    "\n",
    "np.sqrt(np.sum((np.mean(distribution)-distribution)**2)/len(distribution))"
   ]
  },
  {
   "cell_type": "code",
   "execution_count": 10,
   "metadata": {
    "collapsed": false,
    "scrolled": true
   },
   "outputs": [
    {
     "data": {
      "text/plain": [
       "1.0218369328030916"
      ]
     },
     "execution_count": 10,
     "metadata": {},
     "output_type": "execute_result"
    }
   ],
   "source": [
    "np.std(distribution)"
   ]
  },
  {
   "cell_type": "code",
   "execution_count": 11,
   "metadata": {
    "collapsed": false
   },
   "outputs": [
    {
     "data": {
      "text/plain": [
       "0.08372940327026068"
      ]
     },
     "execution_count": 11,
     "metadata": {},
     "output_type": "execute_result"
    }
   ],
   "source": [
    "import scipy.stats as stats\n",
    "stats.kurtosis(distribution)"
   ]
  },
  {
   "cell_type": "code",
   "execution_count": 12,
   "metadata": {
    "collapsed": false
   },
   "outputs": [
    {
     "data": {
      "text/plain": [
       "-0.06595063942233009"
      ]
     },
     "execution_count": 12,
     "metadata": {},
     "output_type": "execute_result"
    }
   ],
   "source": [
    "stats.skew(distribution)"
   ]
  },
  {
   "cell_type": "code",
   "execution_count": 13,
   "metadata": {
    "collapsed": false
   },
   "outputs": [
    {
     "data": {
      "text/plain": [
       "2.0612404911184523"
      ]
     },
     "execution_count": 13,
     "metadata": {},
     "output_type": "execute_result"
    }
   ],
   "source": [
    "chi_squared_df2 = np.random.chisquare(2, size=10000)\n",
    "stats.skew(chi_squared_df2)"
   ]
  },
  {
   "cell_type": "code",
   "execution_count": 14,
   "metadata": {
    "collapsed": false
   },
   "outputs": [
    {
     "data": {
      "text/plain": [
       "1.251317437283943"
      ]
     },
     "execution_count": 14,
     "metadata": {},
     "output_type": "execute_result"
    }
   ],
   "source": [
    "chi_squared_df5 = np.random.chisquare(5, size=10000)\n",
    "stats.skew(chi_squared_df5)"
   ]
  },
  {
   "cell_type": "code",
   "execution_count": 19,
   "metadata": {
    "collapsed": false
   },
   "outputs": [
    {
     "data": {
      "application/javascript": [
       "/* Put everything inside the global mpl namespace */\n",
       "window.mpl = {};\n",
       "\n",
       "mpl.get_websocket_type = function() {\n",
       "    if (typeof(WebSocket) !== 'undefined') {\n",
       "        return WebSocket;\n",
       "    } else if (typeof(MozWebSocket) !== 'undefined') {\n",
       "        return MozWebSocket;\n",
       "    } else {\n",
       "        alert('Your browser does not have WebSocket support.' +\n",
       "              'Please try Chrome, Safari or Firefox ≥ 6. ' +\n",
       "              'Firefox 4 and 5 are also supported but you ' +\n",
       "              'have to enable WebSockets in about:config.');\n",
       "    };\n",
       "}\n",
       "\n",
       "mpl.figure = function(figure_id, websocket, ondownload, parent_element) {\n",
       "    this.id = figure_id;\n",
       "\n",
       "    this.ws = websocket;\n",
       "\n",
       "    this.supports_binary = (this.ws.binaryType != undefined);\n",
       "\n",
       "    if (!this.supports_binary) {\n",
       "        var warnings = document.getElementById(\"mpl-warnings\");\n",
       "        if (warnings) {\n",
       "            warnings.style.display = 'block';\n",
       "            warnings.textContent = (\n",
       "                \"This browser does not support binary websocket messages. \" +\n",
       "                    \"Performance may be slow.\");\n",
       "        }\n",
       "    }\n",
       "\n",
       "    this.imageObj = new Image();\n",
       "\n",
       "    this.context = undefined;\n",
       "    this.message = undefined;\n",
       "    this.canvas = undefined;\n",
       "    this.rubberband_canvas = undefined;\n",
       "    this.rubberband_context = undefined;\n",
       "    this.format_dropdown = undefined;\n",
       "\n",
       "    this.image_mode = 'full';\n",
       "\n",
       "    this.root = $('<div/>');\n",
       "    this._root_extra_style(this.root)\n",
       "    this.root.attr('style', 'display: inline-block');\n",
       "\n",
       "    $(parent_element).append(this.root);\n",
       "\n",
       "    this._init_header(this);\n",
       "    this._init_canvas(this);\n",
       "    this._init_toolbar(this);\n",
       "\n",
       "    var fig = this;\n",
       "\n",
       "    this.waiting = false;\n",
       "\n",
       "    this.ws.onopen =  function () {\n",
       "            fig.send_message(\"supports_binary\", {value: fig.supports_binary});\n",
       "            fig.send_message(\"send_image_mode\", {});\n",
       "            fig.send_message(\"refresh\", {});\n",
       "        }\n",
       "\n",
       "    this.imageObj.onload = function() {\n",
       "            if (fig.image_mode == 'full') {\n",
       "                // Full images could contain transparency (where diff images\n",
       "                // almost always do), so we need to clear the canvas so that\n",
       "                // there is no ghosting.\n",
       "                fig.context.clearRect(0, 0, fig.canvas.width, fig.canvas.height);\n",
       "            }\n",
       "            fig.context.drawImage(fig.imageObj, 0, 0);\n",
       "        };\n",
       "\n",
       "    this.imageObj.onunload = function() {\n",
       "        this.ws.close();\n",
       "    }\n",
       "\n",
       "    this.ws.onmessage = this._make_on_message_function(this);\n",
       "\n",
       "    this.ondownload = ondownload;\n",
       "}\n",
       "\n",
       "mpl.figure.prototype._init_header = function() {\n",
       "    var titlebar = $(\n",
       "        '<div class=\"ui-dialog-titlebar ui-widget-header ui-corner-all ' +\n",
       "        'ui-helper-clearfix\"/>');\n",
       "    var titletext = $(\n",
       "        '<div class=\"ui-dialog-title\" style=\"width: 100%; ' +\n",
       "        'text-align: center; padding: 3px;\"/>');\n",
       "    titlebar.append(titletext)\n",
       "    this.root.append(titlebar);\n",
       "    this.header = titletext[0];\n",
       "}\n",
       "\n",
       "\n",
       "\n",
       "mpl.figure.prototype._canvas_extra_style = function(canvas_div) {\n",
       "\n",
       "}\n",
       "\n",
       "\n",
       "mpl.figure.prototype._root_extra_style = function(canvas_div) {\n",
       "\n",
       "}\n",
       "\n",
       "mpl.figure.prototype._init_canvas = function() {\n",
       "    var fig = this;\n",
       "\n",
       "    var canvas_div = $('<div/>');\n",
       "\n",
       "    canvas_div.attr('style', 'position: relative; clear: both; outline: 0');\n",
       "\n",
       "    function canvas_keyboard_event(event) {\n",
       "        return fig.key_event(event, event['data']);\n",
       "    }\n",
       "\n",
       "    canvas_div.keydown('key_press', canvas_keyboard_event);\n",
       "    canvas_div.keyup('key_release', canvas_keyboard_event);\n",
       "    this.canvas_div = canvas_div\n",
       "    this._canvas_extra_style(canvas_div)\n",
       "    this.root.append(canvas_div);\n",
       "\n",
       "    var canvas = $('<canvas/>');\n",
       "    canvas.addClass('mpl-canvas');\n",
       "    canvas.attr('style', \"left: 0; top: 0; z-index: 0; outline: 0\")\n",
       "\n",
       "    this.canvas = canvas[0];\n",
       "    this.context = canvas[0].getContext(\"2d\");\n",
       "\n",
       "    var rubberband = $('<canvas/>');\n",
       "    rubberband.attr('style', \"position: absolute; left: 0; top: 0; z-index: 1;\")\n",
       "\n",
       "    var pass_mouse_events = true;\n",
       "\n",
       "    canvas_div.resizable({\n",
       "        start: function(event, ui) {\n",
       "            pass_mouse_events = false;\n",
       "        },\n",
       "        resize: function(event, ui) {\n",
       "            fig.request_resize(ui.size.width, ui.size.height);\n",
       "        },\n",
       "        stop: function(event, ui) {\n",
       "            pass_mouse_events = true;\n",
       "            fig.request_resize(ui.size.width, ui.size.height);\n",
       "        },\n",
       "    });\n",
       "\n",
       "    function mouse_event_fn(event) {\n",
       "        if (pass_mouse_events)\n",
       "            return fig.mouse_event(event, event['data']);\n",
       "    }\n",
       "\n",
       "    rubberband.mousedown('button_press', mouse_event_fn);\n",
       "    rubberband.mouseup('button_release', mouse_event_fn);\n",
       "    // Throttle sequential mouse events to 1 every 20ms.\n",
       "    rubberband.mousemove('motion_notify', mouse_event_fn);\n",
       "\n",
       "    rubberband.mouseenter('figure_enter', mouse_event_fn);\n",
       "    rubberband.mouseleave('figure_leave', mouse_event_fn);\n",
       "\n",
       "    canvas_div.on(\"wheel\", function (event) {\n",
       "        event = event.originalEvent;\n",
       "        event['data'] = 'scroll'\n",
       "        if (event.deltaY < 0) {\n",
       "            event.step = 1;\n",
       "        } else {\n",
       "            event.step = -1;\n",
       "        }\n",
       "        mouse_event_fn(event);\n",
       "    });\n",
       "\n",
       "    canvas_div.append(canvas);\n",
       "    canvas_div.append(rubberband);\n",
       "\n",
       "    this.rubberband = rubberband;\n",
       "    this.rubberband_canvas = rubberband[0];\n",
       "    this.rubberband_context = rubberband[0].getContext(\"2d\");\n",
       "    this.rubberband_context.strokeStyle = \"#000000\";\n",
       "\n",
       "    this._resize_canvas = function(width, height) {\n",
       "        // Keep the size of the canvas, canvas container, and rubber band\n",
       "        // canvas in synch.\n",
       "        canvas_div.css('width', width)\n",
       "        canvas_div.css('height', height)\n",
       "\n",
       "        canvas.attr('width', width);\n",
       "        canvas.attr('height', height);\n",
       "\n",
       "        rubberband.attr('width', width);\n",
       "        rubberband.attr('height', height);\n",
       "    }\n",
       "\n",
       "    // Set the figure to an initial 600x600px, this will subsequently be updated\n",
       "    // upon first draw.\n",
       "    this._resize_canvas(600, 600);\n",
       "\n",
       "    // Disable right mouse context menu.\n",
       "    $(this.rubberband_canvas).bind(\"contextmenu\",function(e){\n",
       "        return false;\n",
       "    });\n",
       "\n",
       "    function set_focus () {\n",
       "        canvas.focus();\n",
       "        canvas_div.focus();\n",
       "    }\n",
       "\n",
       "    window.setTimeout(set_focus, 100);\n",
       "}\n",
       "\n",
       "mpl.figure.prototype._init_toolbar = function() {\n",
       "    var fig = this;\n",
       "\n",
       "    var nav_element = $('<div/>')\n",
       "    nav_element.attr('style', 'width: 100%');\n",
       "    this.root.append(nav_element);\n",
       "\n",
       "    // Define a callback function for later on.\n",
       "    function toolbar_event(event) {\n",
       "        return fig.toolbar_button_onclick(event['data']);\n",
       "    }\n",
       "    function toolbar_mouse_event(event) {\n",
       "        return fig.toolbar_button_onmouseover(event['data']);\n",
       "    }\n",
       "\n",
       "    for(var toolbar_ind in mpl.toolbar_items) {\n",
       "        var name = mpl.toolbar_items[toolbar_ind][0];\n",
       "        var tooltip = mpl.toolbar_items[toolbar_ind][1];\n",
       "        var image = mpl.toolbar_items[toolbar_ind][2];\n",
       "        var method_name = mpl.toolbar_items[toolbar_ind][3];\n",
       "\n",
       "        if (!name) {\n",
       "            // put a spacer in here.\n",
       "            continue;\n",
       "        }\n",
       "        var button = $('<button/>');\n",
       "        button.addClass('ui-button ui-widget ui-state-default ui-corner-all ' +\n",
       "                        'ui-button-icon-only');\n",
       "        button.attr('role', 'button');\n",
       "        button.attr('aria-disabled', 'false');\n",
       "        button.click(method_name, toolbar_event);\n",
       "        button.mouseover(tooltip, toolbar_mouse_event);\n",
       "\n",
       "        var icon_img = $('<span/>');\n",
       "        icon_img.addClass('ui-button-icon-primary ui-icon');\n",
       "        icon_img.addClass(image);\n",
       "        icon_img.addClass('ui-corner-all');\n",
       "\n",
       "        var tooltip_span = $('<span/>');\n",
       "        tooltip_span.addClass('ui-button-text');\n",
       "        tooltip_span.html(tooltip);\n",
       "\n",
       "        button.append(icon_img);\n",
       "        button.append(tooltip_span);\n",
       "\n",
       "        nav_element.append(button);\n",
       "    }\n",
       "\n",
       "    var fmt_picker_span = $('<span/>');\n",
       "\n",
       "    var fmt_picker = $('<select/>');\n",
       "    fmt_picker.addClass('mpl-toolbar-option ui-widget ui-widget-content');\n",
       "    fmt_picker_span.append(fmt_picker);\n",
       "    nav_element.append(fmt_picker_span);\n",
       "    this.format_dropdown = fmt_picker[0];\n",
       "\n",
       "    for (var ind in mpl.extensions) {\n",
       "        var fmt = mpl.extensions[ind];\n",
       "        var option = $(\n",
       "            '<option/>', {selected: fmt === mpl.default_extension}).html(fmt);\n",
       "        fmt_picker.append(option)\n",
       "    }\n",
       "\n",
       "    // Add hover states to the ui-buttons\n",
       "    $( \".ui-button\" ).hover(\n",
       "        function() { $(this).addClass(\"ui-state-hover\");},\n",
       "        function() { $(this).removeClass(\"ui-state-hover\");}\n",
       "    );\n",
       "\n",
       "    var status_bar = $('<span class=\"mpl-message\"/>');\n",
       "    nav_element.append(status_bar);\n",
       "    this.message = status_bar[0];\n",
       "}\n",
       "\n",
       "mpl.figure.prototype.request_resize = function(x_pixels, y_pixels) {\n",
       "    // Request matplotlib to resize the figure. Matplotlib will then trigger a resize in the client,\n",
       "    // which will in turn request a refresh of the image.\n",
       "    this.send_message('resize', {'width': x_pixels, 'height': y_pixels});\n",
       "}\n",
       "\n",
       "mpl.figure.prototype.send_message = function(type, properties) {\n",
       "    properties['type'] = type;\n",
       "    properties['figure_id'] = this.id;\n",
       "    this.ws.send(JSON.stringify(properties));\n",
       "}\n",
       "\n",
       "mpl.figure.prototype.send_draw_message = function() {\n",
       "    if (!this.waiting) {\n",
       "        this.waiting = true;\n",
       "        this.ws.send(JSON.stringify({type: \"draw\", figure_id: this.id}));\n",
       "    }\n",
       "}\n",
       "\n",
       "\n",
       "mpl.figure.prototype.handle_save = function(fig, msg) {\n",
       "    var format_dropdown = fig.format_dropdown;\n",
       "    var format = format_dropdown.options[format_dropdown.selectedIndex].value;\n",
       "    fig.ondownload(fig, format);\n",
       "}\n",
       "\n",
       "\n",
       "mpl.figure.prototype.handle_resize = function(fig, msg) {\n",
       "    var size = msg['size'];\n",
       "    if (size[0] != fig.canvas.width || size[1] != fig.canvas.height) {\n",
       "        fig._resize_canvas(size[0], size[1]);\n",
       "        fig.send_message(\"refresh\", {});\n",
       "    };\n",
       "}\n",
       "\n",
       "mpl.figure.prototype.handle_rubberband = function(fig, msg) {\n",
       "    var x0 = msg['x0'];\n",
       "    var y0 = fig.canvas.height - msg['y0'];\n",
       "    var x1 = msg['x1'];\n",
       "    var y1 = fig.canvas.height - msg['y1'];\n",
       "    x0 = Math.floor(x0) + 0.5;\n",
       "    y0 = Math.floor(y0) + 0.5;\n",
       "    x1 = Math.floor(x1) + 0.5;\n",
       "    y1 = Math.floor(y1) + 0.5;\n",
       "    var min_x = Math.min(x0, x1);\n",
       "    var min_y = Math.min(y0, y1);\n",
       "    var width = Math.abs(x1 - x0);\n",
       "    var height = Math.abs(y1 - y0);\n",
       "\n",
       "    fig.rubberband_context.clearRect(\n",
       "        0, 0, fig.canvas.width, fig.canvas.height);\n",
       "\n",
       "    fig.rubberband_context.strokeRect(min_x, min_y, width, height);\n",
       "}\n",
       "\n",
       "mpl.figure.prototype.handle_figure_label = function(fig, msg) {\n",
       "    // Updates the figure title.\n",
       "    fig.header.textContent = msg['label'];\n",
       "}\n",
       "\n",
       "mpl.figure.prototype.handle_cursor = function(fig, msg) {\n",
       "    var cursor = msg['cursor'];\n",
       "    switch(cursor)\n",
       "    {\n",
       "    case 0:\n",
       "        cursor = 'pointer';\n",
       "        break;\n",
       "    case 1:\n",
       "        cursor = 'default';\n",
       "        break;\n",
       "    case 2:\n",
       "        cursor = 'crosshair';\n",
       "        break;\n",
       "    case 3:\n",
       "        cursor = 'move';\n",
       "        break;\n",
       "    }\n",
       "    fig.rubberband_canvas.style.cursor = cursor;\n",
       "}\n",
       "\n",
       "mpl.figure.prototype.handle_message = function(fig, msg) {\n",
       "    fig.message.textContent = msg['message'];\n",
       "}\n",
       "\n",
       "mpl.figure.prototype.handle_draw = function(fig, msg) {\n",
       "    // Request the server to send over a new figure.\n",
       "    fig.send_draw_message();\n",
       "}\n",
       "\n",
       "mpl.figure.prototype.handle_image_mode = function(fig, msg) {\n",
       "    fig.image_mode = msg['mode'];\n",
       "}\n",
       "\n",
       "mpl.figure.prototype.updated_canvas_event = function() {\n",
       "    // Called whenever the canvas gets updated.\n",
       "    this.send_message(\"ack\", {});\n",
       "}\n",
       "\n",
       "// A function to construct a web socket function for onmessage handling.\n",
       "// Called in the figure constructor.\n",
       "mpl.figure.prototype._make_on_message_function = function(fig) {\n",
       "    return function socket_on_message(evt) {\n",
       "        if (evt.data instanceof Blob) {\n",
       "            /* FIXME: We get \"Resource interpreted as Image but\n",
       "             * transferred with MIME type text/plain:\" errors on\n",
       "             * Chrome.  But how to set the MIME type?  It doesn't seem\n",
       "             * to be part of the websocket stream */\n",
       "            evt.data.type = \"image/png\";\n",
       "\n",
       "            /* Free the memory for the previous frames */\n",
       "            if (fig.imageObj.src) {\n",
       "                (window.URL || window.webkitURL).revokeObjectURL(\n",
       "                    fig.imageObj.src);\n",
       "            }\n",
       "\n",
       "            fig.imageObj.src = (window.URL || window.webkitURL).createObjectURL(\n",
       "                evt.data);\n",
       "            fig.updated_canvas_event();\n",
       "            fig.waiting = false;\n",
       "            return;\n",
       "        }\n",
       "        else if (typeof evt.data === 'string' && evt.data.slice(0, 21) == \"data:image/png;base64\") {\n",
       "            fig.imageObj.src = evt.data;\n",
       "            fig.updated_canvas_event();\n",
       "            fig.waiting = false;\n",
       "            return;\n",
       "        }\n",
       "\n",
       "        var msg = JSON.parse(evt.data);\n",
       "        var msg_type = msg['type'];\n",
       "\n",
       "        // Call the  \"handle_{type}\" callback, which takes\n",
       "        // the figure and JSON message as its only arguments.\n",
       "        try {\n",
       "            var callback = fig[\"handle_\" + msg_type];\n",
       "        } catch (e) {\n",
       "            console.log(\"No handler for the '\" + msg_type + \"' message type: \", msg);\n",
       "            return;\n",
       "        }\n",
       "\n",
       "        if (callback) {\n",
       "            try {\n",
       "                // console.log(\"Handling '\" + msg_type + \"' message: \", msg);\n",
       "                callback(fig, msg);\n",
       "            } catch (e) {\n",
       "                console.log(\"Exception inside the 'handler_\" + msg_type + \"' callback:\", e, e.stack, msg);\n",
       "            }\n",
       "        }\n",
       "    };\n",
       "}\n",
       "\n",
       "// from http://stackoverflow.com/questions/1114465/getting-mouse-location-in-canvas\n",
       "mpl.findpos = function(e) {\n",
       "    //this section is from http://www.quirksmode.org/js/events_properties.html\n",
       "    var targ;\n",
       "    if (!e)\n",
       "        e = window.event;\n",
       "    if (e.target)\n",
       "        targ = e.target;\n",
       "    else if (e.srcElement)\n",
       "        targ = e.srcElement;\n",
       "    if (targ.nodeType == 3) // defeat Safari bug\n",
       "        targ = targ.parentNode;\n",
       "\n",
       "    // jQuery normalizes the pageX and pageY\n",
       "    // pageX,Y are the mouse positions relative to the document\n",
       "    // offset() returns the position of the element relative to the document\n",
       "    var x = e.pageX - $(targ).offset().left;\n",
       "    var y = e.pageY - $(targ).offset().top;\n",
       "\n",
       "    return {\"x\": x, \"y\": y};\n",
       "};\n",
       "\n",
       "/*\n",
       " * return a copy of an object with only non-object keys\n",
       " * we need this to avoid circular references\n",
       " * http://stackoverflow.com/a/24161582/3208463\n",
       " */\n",
       "function simpleKeys (original) {\n",
       "  return Object.keys(original).reduce(function (obj, key) {\n",
       "    if (typeof original[key] !== 'object')\n",
       "        obj[key] = original[key]\n",
       "    return obj;\n",
       "  }, {});\n",
       "}\n",
       "\n",
       "mpl.figure.prototype.mouse_event = function(event, name) {\n",
       "    var canvas_pos = mpl.findpos(event)\n",
       "\n",
       "    if (name === 'button_press')\n",
       "    {\n",
       "        this.canvas.focus();\n",
       "        this.canvas_div.focus();\n",
       "    }\n",
       "\n",
       "    var x = canvas_pos.x;\n",
       "    var y = canvas_pos.y;\n",
       "\n",
       "    this.send_message(name, {x: x, y: y, button: event.button,\n",
       "                             step: event.step,\n",
       "                             guiEvent: simpleKeys(event)});\n",
       "\n",
       "    /* This prevents the web browser from automatically changing to\n",
       "     * the text insertion cursor when the button is pressed.  We want\n",
       "     * to control all of the cursor setting manually through the\n",
       "     * 'cursor' event from matplotlib */\n",
       "    event.preventDefault();\n",
       "    return false;\n",
       "}\n",
       "\n",
       "mpl.figure.prototype._key_event_extra = function(event, name) {\n",
       "    // Handle any extra behaviour associated with a key event\n",
       "}\n",
       "\n",
       "mpl.figure.prototype.key_event = function(event, name) {\n",
       "\n",
       "    // Prevent repeat events\n",
       "    if (name == 'key_press')\n",
       "    {\n",
       "        if (event.which === this._key)\n",
       "            return;\n",
       "        else\n",
       "            this._key = event.which;\n",
       "    }\n",
       "    if (name == 'key_release')\n",
       "        this._key = null;\n",
       "\n",
       "    var value = '';\n",
       "    if (event.ctrlKey && event.which != 17)\n",
       "        value += \"ctrl+\";\n",
       "    if (event.altKey && event.which != 18)\n",
       "        value += \"alt+\";\n",
       "    if (event.shiftKey && event.which != 16)\n",
       "        value += \"shift+\";\n",
       "\n",
       "    value += 'k';\n",
       "    value += event.which.toString();\n",
       "\n",
       "    this._key_event_extra(event, name);\n",
       "\n",
       "    this.send_message(name, {key: value,\n",
       "                             guiEvent: simpleKeys(event)});\n",
       "    return false;\n",
       "}\n",
       "\n",
       "mpl.figure.prototype.toolbar_button_onclick = function(name) {\n",
       "    if (name == 'download') {\n",
       "        this.handle_save(this, null);\n",
       "    } else {\n",
       "        this.send_message(\"toolbar_button\", {name: name});\n",
       "    }\n",
       "};\n",
       "\n",
       "mpl.figure.prototype.toolbar_button_onmouseover = function(tooltip) {\n",
       "    this.message.textContent = tooltip;\n",
       "};\n",
       "mpl.toolbar_items = [[\"Home\", \"Reset original view\", \"fa fa-home icon-home\", \"home\"], [\"Back\", \"Back to  previous view\", \"fa fa-arrow-left icon-arrow-left\", \"back\"], [\"Forward\", \"Forward to next view\", \"fa fa-arrow-right icon-arrow-right\", \"forward\"], [\"\", \"\", \"\", \"\"], [\"Pan\", \"Pan axes with left mouse, zoom with right\", \"fa fa-arrows icon-move\", \"pan\"], [\"Zoom\", \"Zoom to rectangle\", \"fa fa-square-o icon-check-empty\", \"zoom\"], [\"\", \"\", \"\", \"\"], [\"Download\", \"Download plot\", \"fa fa-floppy-o icon-save\", \"download\"]];\n",
       "\n",
       "mpl.extensions = [\"eps\", \"jpeg\", \"pdf\", \"png\", \"ps\", \"raw\", \"svg\", \"tif\"];\n",
       "\n",
       "mpl.default_extension = \"png\";var comm_websocket_adapter = function(comm) {\n",
       "    // Create a \"websocket\"-like object which calls the given IPython comm\n",
       "    // object with the appropriate methods. Currently this is a non binary\n",
       "    // socket, so there is still some room for performance tuning.\n",
       "    var ws = {};\n",
       "\n",
       "    ws.close = function() {\n",
       "        comm.close()\n",
       "    };\n",
       "    ws.send = function(m) {\n",
       "        //console.log('sending', m);\n",
       "        comm.send(m);\n",
       "    };\n",
       "    // Register the callback with on_msg.\n",
       "    comm.on_msg(function(msg) {\n",
       "        //console.log('receiving', msg['content']['data'], msg);\n",
       "        // Pass the mpl event to the overriden (by mpl) onmessage function.\n",
       "        ws.onmessage(msg['content']['data'])\n",
       "    });\n",
       "    return ws;\n",
       "}\n",
       "\n",
       "mpl.mpl_figure_comm = function(comm, msg) {\n",
       "    // This is the function which gets called when the mpl process\n",
       "    // starts-up an IPython Comm through the \"matplotlib\" channel.\n",
       "\n",
       "    var id = msg.content.data.id;\n",
       "    // Get hold of the div created by the display call when the Comm\n",
       "    // socket was opened in Python.\n",
       "    var element = $(\"#\" + id);\n",
       "    var ws_proxy = comm_websocket_adapter(comm)\n",
       "\n",
       "    function ondownload(figure, format) {\n",
       "        window.open(figure.imageObj.src);\n",
       "    }\n",
       "\n",
       "    var fig = new mpl.figure(id, ws_proxy,\n",
       "                           ondownload,\n",
       "                           element.get(0));\n",
       "\n",
       "    // Call onopen now - mpl needs it, as it is assuming we've passed it a real\n",
       "    // web socket which is closed, not our websocket->open comm proxy.\n",
       "    ws_proxy.onopen();\n",
       "\n",
       "    fig.parent_element = element.get(0);\n",
       "    fig.cell_info = mpl.find_output_cell(\"<div id='\" + id + \"'></div>\");\n",
       "    if (!fig.cell_info) {\n",
       "        console.error(\"Failed to find cell for figure\", id, fig);\n",
       "        return;\n",
       "    }\n",
       "\n",
       "    var output_index = fig.cell_info[2]\n",
       "    var cell = fig.cell_info[0];\n",
       "\n",
       "};\n",
       "\n",
       "mpl.figure.prototype.handle_close = function(fig, msg) {\n",
       "    fig.root.unbind('remove')\n",
       "\n",
       "    // Update the output cell to use the data from the current canvas.\n",
       "    fig.push_to_output();\n",
       "    var dataURL = fig.canvas.toDataURL();\n",
       "    // Re-enable the keyboard manager in IPython - without this line, in FF,\n",
       "    // the notebook keyboard shortcuts fail.\n",
       "    IPython.keyboard_manager.enable()\n",
       "    $(fig.parent_element).html('<img src=\"' + dataURL + '\">');\n",
       "    fig.close_ws(fig, msg);\n",
       "}\n",
       "\n",
       "mpl.figure.prototype.close_ws = function(fig, msg){\n",
       "    fig.send_message('closing', msg);\n",
       "    // fig.ws.close()\n",
       "}\n",
       "\n",
       "mpl.figure.prototype.push_to_output = function(remove_interactive) {\n",
       "    // Turn the data on the canvas into data in the output cell.\n",
       "    var dataURL = this.canvas.toDataURL();\n",
       "    this.cell_info[1]['text/html'] = '<img src=\"' + dataURL + '\">';\n",
       "}\n",
       "\n",
       "mpl.figure.prototype.updated_canvas_event = function() {\n",
       "    // Tell IPython that the notebook contents must change.\n",
       "    IPython.notebook.set_dirty(true);\n",
       "    this.send_message(\"ack\", {});\n",
       "    var fig = this;\n",
       "    // Wait a second, then push the new image to the DOM so\n",
       "    // that it is saved nicely (might be nice to debounce this).\n",
       "    setTimeout(function () { fig.push_to_output() }, 1000);\n",
       "}\n",
       "\n",
       "mpl.figure.prototype._init_toolbar = function() {\n",
       "    var fig = this;\n",
       "\n",
       "    var nav_element = $('<div/>')\n",
       "    nav_element.attr('style', 'width: 100%');\n",
       "    this.root.append(nav_element);\n",
       "\n",
       "    // Define a callback function for later on.\n",
       "    function toolbar_event(event) {\n",
       "        return fig.toolbar_button_onclick(event['data']);\n",
       "    }\n",
       "    function toolbar_mouse_event(event) {\n",
       "        return fig.toolbar_button_onmouseover(event['data']);\n",
       "    }\n",
       "\n",
       "    for(var toolbar_ind in mpl.toolbar_items){\n",
       "        var name = mpl.toolbar_items[toolbar_ind][0];\n",
       "        var tooltip = mpl.toolbar_items[toolbar_ind][1];\n",
       "        var image = mpl.toolbar_items[toolbar_ind][2];\n",
       "        var method_name = mpl.toolbar_items[toolbar_ind][3];\n",
       "\n",
       "        if (!name) { continue; };\n",
       "\n",
       "        var button = $('<button class=\"btn btn-default\" href=\"#\" title=\"' + name + '\"><i class=\"fa ' + image + ' fa-lg\"></i></button>');\n",
       "        button.click(method_name, toolbar_event);\n",
       "        button.mouseover(tooltip, toolbar_mouse_event);\n",
       "        nav_element.append(button);\n",
       "    }\n",
       "\n",
       "    // Add the status bar.\n",
       "    var status_bar = $('<span class=\"mpl-message\" style=\"text-align:right; float: right;\"/>');\n",
       "    nav_element.append(status_bar);\n",
       "    this.message = status_bar[0];\n",
       "\n",
       "    // Add the close button to the window.\n",
       "    var buttongrp = $('<div class=\"btn-group inline pull-right\"></div>');\n",
       "    var button = $('<button class=\"btn btn-mini btn-primary\" href=\"#\" title=\"Stop Interaction\"><i class=\"fa fa-power-off icon-remove icon-large\"></i></button>');\n",
       "    button.click(function (evt) { fig.handle_close(fig, {}); } );\n",
       "    button.mouseover('Stop Interaction', toolbar_mouse_event);\n",
       "    buttongrp.append(button);\n",
       "    var titlebar = this.root.find($('.ui-dialog-titlebar'));\n",
       "    titlebar.prepend(buttongrp);\n",
       "}\n",
       "\n",
       "mpl.figure.prototype._root_extra_style = function(el){\n",
       "    var fig = this\n",
       "    el.on(\"remove\", function(){\n",
       "\tfig.close_ws(fig, {});\n",
       "    });\n",
       "}\n",
       "\n",
       "mpl.figure.prototype._canvas_extra_style = function(el){\n",
       "    // this is important to make the div 'focusable\n",
       "    el.attr('tabindex', 0)\n",
       "    // reach out to IPython and tell the keyboard manager to turn it's self\n",
       "    // off when our div gets focus\n",
       "\n",
       "    // location in version 3\n",
       "    if (IPython.notebook.keyboard_manager) {\n",
       "        IPython.notebook.keyboard_manager.register_events(el);\n",
       "    }\n",
       "    else {\n",
       "        // location in version 2\n",
       "        IPython.keyboard_manager.register_events(el);\n",
       "    }\n",
       "\n",
       "}\n",
       "\n",
       "mpl.figure.prototype._key_event_extra = function(event, name) {\n",
       "    var manager = IPython.notebook.keyboard_manager;\n",
       "    if (!manager)\n",
       "        manager = IPython.keyboard_manager;\n",
       "\n",
       "    // Check for shift+enter\n",
       "    if (event.shiftKey && event.which == 13) {\n",
       "        this.canvas_div.blur();\n",
       "        event.shiftKey = false;\n",
       "        // Send a \"J\" for go to next cell\n",
       "        event.which = 74;\n",
       "        event.keyCode = 74;\n",
       "        manager.command_mode();\n",
       "        manager.handle_keydown(event);\n",
       "    }\n",
       "}\n",
       "\n",
       "mpl.figure.prototype.handle_save = function(fig, msg) {\n",
       "    fig.ondownload(fig, null);\n",
       "}\n",
       "\n",
       "\n",
       "mpl.find_output_cell = function(html_output) {\n",
       "    // Return the cell and output element which can be found *uniquely* in the notebook.\n",
       "    // Note - this is a bit hacky, but it is done because the \"notebook_saving.Notebook\"\n",
       "    // IPython event is triggered only after the cells have been serialised, which for\n",
       "    // our purposes (turning an active figure into a static one), is too late.\n",
       "    var cells = IPython.notebook.get_cells();\n",
       "    var ncells = cells.length;\n",
       "    for (var i=0; i<ncells; i++) {\n",
       "        var cell = cells[i];\n",
       "        if (cell.cell_type === 'code'){\n",
       "            for (var j=0; j<cell.output_area.outputs.length; j++) {\n",
       "                var data = cell.output_area.outputs[j];\n",
       "                if (data.data) {\n",
       "                    // IPython >= 3 moved mimebundle to data attribute of output\n",
       "                    data = data.data;\n",
       "                }\n",
       "                if (data['text/html'] == html_output) {\n",
       "                    return [cell, data, j];\n",
       "                }\n",
       "            }\n",
       "        }\n",
       "    }\n",
       "}\n",
       "\n",
       "// Register the function which deals with the matplotlib target/channel.\n",
       "// The kernel may be null if the page has been refreshed.\n",
       "if (IPython.notebook.kernel != null) {\n",
       "    IPython.notebook.kernel.comm_manager.register_target('matplotlib', mpl.mpl_figure_comm);\n",
       "}\n"
      ],
      "text/plain": [
       "<IPython.core.display.Javascript object>"
      ]
     },
     "metadata": {},
     "output_type": "display_data"
    },
    {
     "data": {
      "text/html": [
       "<img src=\"data:image/png;base64,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\">"
      ],
      "text/plain": [
       "<IPython.core.display.HTML object>"
      ]
     },
     "metadata": {},
     "output_type": "display_data"
    },
    {
     "data": {
      "text/plain": [
       "<matplotlib.legend.Legend at 0x7fdea25a8b10>"
      ]
     },
     "execution_count": 19,
     "metadata": {},
     "output_type": "execute_result"
    }
   ],
   "source": [
    "%matplotlib nbagg\n",
    "#%matplotlib inline\n",
    "import matplotlib\n",
    "import matplotlib.pyplot as plt\n",
    "\n",
    "output = plt.hist([chi_squared_df2,chi_squared_df5], bins=50, histtype='step', \n",
    "                  label=['2 degrees of freedom','5 degrees of freedom'])\n",
    "plt.legend(loc='upper right')\n"
   ]
  },
  {
   "cell_type": "markdown",
   "metadata": {},
   "source": [
    "# Hypothesis Testing"
   ]
  },
  {
   "cell_type": "code",
   "execution_count": 20,
   "metadata": {
    "collapsed": false
   },
   "outputs": [],
   "source": [
    "df = pd.read_csv('grades.csv')"
   ]
  },
  {
   "cell_type": "code",
   "execution_count": 21,
   "metadata": {
    "collapsed": false
   },
   "outputs": [
    {
     "data": {
      "text/html": [
       "<div>\n",
       "<table border=\"1\" class=\"dataframe\">\n",
       "  <thead>\n",
       "    <tr style=\"text-align: right;\">\n",
       "      <th></th>\n",
       "      <th>student_id</th>\n",
       "      <th>assignment1_grade</th>\n",
       "      <th>assignment1_submission</th>\n",
       "      <th>assignment2_grade</th>\n",
       "      <th>assignment2_submission</th>\n",
       "      <th>assignment3_grade</th>\n",
       "      <th>assignment3_submission</th>\n",
       "      <th>assignment4_grade</th>\n",
       "      <th>assignment4_submission</th>\n",
       "      <th>assignment5_grade</th>\n",
       "      <th>assignment5_submission</th>\n",
       "      <th>assignment6_grade</th>\n",
       "      <th>assignment6_submission</th>\n",
       "    </tr>\n",
       "  </thead>\n",
       "  <tbody>\n",
       "    <tr>\n",
       "      <th>0</th>\n",
       "      <td>B73F2C11-70F0-E37D-8B10-1D20AFED50B1</td>\n",
       "      <td>92.733946</td>\n",
       "      <td>2015-11-02 06:55:34.282000000</td>\n",
       "      <td>83.030552</td>\n",
       "      <td>2015-11-09 02:22:58.938000000</td>\n",
       "      <td>67.164441</td>\n",
       "      <td>2015-11-12 08:58:33.998000000</td>\n",
       "      <td>53.011553</td>\n",
       "      <td>2015-11-16 01:21:24.663000000</td>\n",
       "      <td>47.710398</td>\n",
       "      <td>2015-11-20 13:24:59.692000000</td>\n",
       "      <td>38.168318</td>\n",
       "      <td>2015-11-22 18:31:15.934000000</td>\n",
       "    </tr>\n",
       "    <tr>\n",
       "      <th>1</th>\n",
       "      <td>98A0FAE0-A19A-13D2-4BB5-CFBFD94031D1</td>\n",
       "      <td>86.790821</td>\n",
       "      <td>2015-11-29 14:57:44.429000000</td>\n",
       "      <td>86.290821</td>\n",
       "      <td>2015-12-06 17:41:18.449000000</td>\n",
       "      <td>69.772657</td>\n",
       "      <td>2015-12-10 08:54:55.904000000</td>\n",
       "      <td>55.098125</td>\n",
       "      <td>2015-12-13 17:32:30.941000000</td>\n",
       "      <td>49.588313</td>\n",
       "      <td>2015-12-19 23:26:39.285000000</td>\n",
       "      <td>44.629482</td>\n",
       "      <td>2015-12-21 17:07:24.275000000</td>\n",
       "    </tr>\n",
       "    <tr>\n",
       "      <th>2</th>\n",
       "      <td>D0F62040-CEB0-904C-F563-2F8620916C4E</td>\n",
       "      <td>85.512541</td>\n",
       "      <td>2016-01-09 05:36:02.389000000</td>\n",
       "      <td>85.512541</td>\n",
       "      <td>2016-01-09 06:39:44.416000000</td>\n",
       "      <td>68.410033</td>\n",
       "      <td>2016-01-15 20:22:45.882000000</td>\n",
       "      <td>54.728026</td>\n",
       "      <td>2016-01-11 12:41:50.749000000</td>\n",
       "      <td>49.255224</td>\n",
       "      <td>2016-01-11 17:31:12.489000000</td>\n",
       "      <td>44.329701</td>\n",
       "      <td>2016-01-17 16:24:42.765000000</td>\n",
       "    </tr>\n",
       "    <tr>\n",
       "      <th>3</th>\n",
       "      <td>FFDF2B2C-F514-EF7F-6538-A6A53518E9DC</td>\n",
       "      <td>86.030665</td>\n",
       "      <td>2016-04-30 06:50:39.801000000</td>\n",
       "      <td>68.824532</td>\n",
       "      <td>2016-04-30 17:20:38.727000000</td>\n",
       "      <td>61.942079</td>\n",
       "      <td>2016-05-12 07:47:16.326000000</td>\n",
       "      <td>49.553663</td>\n",
       "      <td>2016-05-07 16:09:20.485000000</td>\n",
       "      <td>49.553663</td>\n",
       "      <td>2016-05-24 12:51:18.016000000</td>\n",
       "      <td>44.598297</td>\n",
       "      <td>2016-05-26 08:09:12.058000000</td>\n",
       "    </tr>\n",
       "    <tr>\n",
       "      <th>4</th>\n",
       "      <td>5ECBEEB6-F1CE-80AE-3164-E45E99473FB4</td>\n",
       "      <td>64.813800</td>\n",
       "      <td>2015-12-13 17:06:10.750000000</td>\n",
       "      <td>51.491040</td>\n",
       "      <td>2015-12-14 12:25:12.056000000</td>\n",
       "      <td>41.932832</td>\n",
       "      <td>2015-12-29 14:25:22.594000000</td>\n",
       "      <td>36.929549</td>\n",
       "      <td>2015-12-28 01:29:55.901000000</td>\n",
       "      <td>33.236594</td>\n",
       "      <td>2015-12-29 14:46:06.628000000</td>\n",
       "      <td>33.236594</td>\n",
       "      <td>2016-01-05 01:06:59.546000000</td>\n",
       "    </tr>\n",
       "  </tbody>\n",
       "</table>\n",
       "</div>"
      ],
      "text/plain": [
       "                             student_id  assignment1_grade  \\\n",
       "0  B73F2C11-70F0-E37D-8B10-1D20AFED50B1          92.733946   \n",
       "1  98A0FAE0-A19A-13D2-4BB5-CFBFD94031D1          86.790821   \n",
       "2  D0F62040-CEB0-904C-F563-2F8620916C4E          85.512541   \n",
       "3  FFDF2B2C-F514-EF7F-6538-A6A53518E9DC          86.030665   \n",
       "4  5ECBEEB6-F1CE-80AE-3164-E45E99473FB4          64.813800   \n",
       "\n",
       "          assignment1_submission  assignment2_grade  \\\n",
       "0  2015-11-02 06:55:34.282000000          83.030552   \n",
       "1  2015-11-29 14:57:44.429000000          86.290821   \n",
       "2  2016-01-09 05:36:02.389000000          85.512541   \n",
       "3  2016-04-30 06:50:39.801000000          68.824532   \n",
       "4  2015-12-13 17:06:10.750000000          51.491040   \n",
       "\n",
       "          assignment2_submission  assignment3_grade  \\\n",
       "0  2015-11-09 02:22:58.938000000          67.164441   \n",
       "1  2015-12-06 17:41:18.449000000          69.772657   \n",
       "2  2016-01-09 06:39:44.416000000          68.410033   \n",
       "3  2016-04-30 17:20:38.727000000          61.942079   \n",
       "4  2015-12-14 12:25:12.056000000          41.932832   \n",
       "\n",
       "          assignment3_submission  assignment4_grade  \\\n",
       "0  2015-11-12 08:58:33.998000000          53.011553   \n",
       "1  2015-12-10 08:54:55.904000000          55.098125   \n",
       "2  2016-01-15 20:22:45.882000000          54.728026   \n",
       "3  2016-05-12 07:47:16.326000000          49.553663   \n",
       "4  2015-12-29 14:25:22.594000000          36.929549   \n",
       "\n",
       "          assignment4_submission  assignment5_grade  \\\n",
       "0  2015-11-16 01:21:24.663000000          47.710398   \n",
       "1  2015-12-13 17:32:30.941000000          49.588313   \n",
       "2  2016-01-11 12:41:50.749000000          49.255224   \n",
       "3  2016-05-07 16:09:20.485000000          49.553663   \n",
       "4  2015-12-28 01:29:55.901000000          33.236594   \n",
       "\n",
       "          assignment5_submission  assignment6_grade  \\\n",
       "0  2015-11-20 13:24:59.692000000          38.168318   \n",
       "1  2015-12-19 23:26:39.285000000          44.629482   \n",
       "2  2016-01-11 17:31:12.489000000          44.329701   \n",
       "3  2016-05-24 12:51:18.016000000          44.598297   \n",
       "4  2015-12-29 14:46:06.628000000          33.236594   \n",
       "\n",
       "          assignment6_submission  \n",
       "0  2015-11-22 18:31:15.934000000  \n",
       "1  2015-12-21 17:07:24.275000000  \n",
       "2  2016-01-17 16:24:42.765000000  \n",
       "3  2016-05-26 08:09:12.058000000  \n",
       "4  2016-01-05 01:06:59.546000000  "
      ]
     },
     "execution_count": 21,
     "metadata": {},
     "output_type": "execute_result"
    }
   ],
   "source": [
    "df.head()"
   ]
  },
  {
   "cell_type": "code",
   "execution_count": 22,
   "metadata": {
    "collapsed": false
   },
   "outputs": [
    {
     "data": {
      "text/plain": [
       "2315"
      ]
     },
     "execution_count": 22,
     "metadata": {},
     "output_type": "execute_result"
    }
   ],
   "source": [
    "len(df)"
   ]
  },
  {
   "cell_type": "code",
   "execution_count": 23,
   "metadata": {
    "collapsed": false
   },
   "outputs": [],
   "source": [
    "early = df[df['assignment1_submission'] <= '2015-12-31']\n",
    "late = df[df['assignment1_submission'] > '2015-12-31']"
   ]
  },
  {
   "cell_type": "code",
   "execution_count": 24,
   "metadata": {
    "collapsed": false
   },
   "outputs": [
    {
     "data": {
      "text/plain": [
       "assignment1_grade    74.972741\n",
       "assignment2_grade    67.252190\n",
       "assignment3_grade    61.129050\n",
       "assignment4_grade    54.157620\n",
       "assignment5_grade    48.634643\n",
       "assignment6_grade    43.838980\n",
       "dtype: float64"
      ]
     },
     "execution_count": 24,
     "metadata": {},
     "output_type": "execute_result"
    }
   ],
   "source": [
    "early.mean()"
   ]
  },
  {
   "cell_type": "code",
   "execution_count": 25,
   "metadata": {
    "collapsed": false
   },
   "outputs": [
    {
     "data": {
      "text/plain": [
       "assignment1_grade    74.017429\n",
       "assignment2_grade    66.370822\n",
       "assignment3_grade    60.023244\n",
       "assignment4_grade    54.058138\n",
       "assignment5_grade    48.599402\n",
       "assignment6_grade    43.844384\n",
       "dtype: float64"
      ]
     },
     "execution_count": 25,
     "metadata": {},
     "output_type": "execute_result"
    }
   ],
   "source": [
    "late.mean()"
   ]
  },
  {
   "cell_type": "code",
   "execution_count": 26,
   "metadata": {
    "collapsed": false
   },
   "outputs": [],
   "source": [
    "from scipy import stats\n",
    "stats.ttest_ind?"
   ]
  },
  {
   "cell_type": "code",
   "execution_count": 27,
   "metadata": {
    "collapsed": false
   },
   "outputs": [
    {
     "data": {
      "text/plain": [
       "Ttest_indResult(statistic=1.400549944897566, pvalue=0.16148283016060577)"
      ]
     },
     "execution_count": 27,
     "metadata": {},
     "output_type": "execute_result"
    }
   ],
   "source": [
    "stats.ttest_ind(early['assignment1_grade'], late['assignment1_grade'])"
   ]
  },
  {
   "cell_type": "code",
   "execution_count": 28,
   "metadata": {
    "collapsed": false
   },
   "outputs": [
    {
     "data": {
      "text/plain": [
       "Ttest_indResult(statistic=1.3239868220912567, pvalue=0.18563824610067967)"
      ]
     },
     "execution_count": 28,
     "metadata": {},
     "output_type": "execute_result"
    }
   ],
   "source": [
    "stats.ttest_ind(early['assignment2_grade'], late['assignment2_grade'])"
   ]
  },
  {
   "cell_type": "code",
   "execution_count": 29,
   "metadata": {
    "collapsed": false
   },
   "outputs": [
    {
     "data": {
      "text/plain": [
       "Ttest_indResult(statistic=1.7116160037010733, pvalue=0.087101516341556676)"
      ]
     },
     "execution_count": 29,
     "metadata": {},
     "output_type": "execute_result"
    }
   ],
   "source": [
    "stats.ttest_ind(early['assignment3_grade'], late['assignment3_grade'])"
   ]
  },
  {
   "cell_type": "code",
   "execution_count": null,
   "metadata": {
    "collapsed": true
   },
   "outputs": [],
   "source": []
  }
 ],
 "metadata": {
  "kernelspec": {
   "display_name": "Python [Root]",
   "language": "python",
   "name": "Python [Root]"
  },
  "language_info": {
   "codemirror_mode": {
    "name": "ipython",
    "version": 2
   },
   "file_extension": ".py",
   "mimetype": "text/x-python",
   "name": "python",
   "nbconvert_exporter": "python",
   "pygments_lexer": "ipython2",
   "version": "2.7.12"
  }
 },
 "nbformat": 4,
 "nbformat_minor": 0
}
